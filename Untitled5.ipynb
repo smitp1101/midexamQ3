{
  "nbformat": 4,
  "nbformat_minor": 0,
  "metadata": {
    "colab": {
      "provenance": []
    },
    "kernelspec": {
      "name": "python3",
      "display_name": "Python 3"
    },
    "language_info": {
      "name": "python"
    }
  },
  "cells": [
    {
      "cell_type": "code",
      "execution_count": 2,
      "metadata": {
        "colab": {
          "base_uri": "https://localhost:8080/",
          "height": 0
        },
        "id": "1wfNe7wFLTYn",
        "outputId": "7541ed54-eaf9-4e96-8915-08c8da03f491"
      },
      "outputs": [
        {
          "output_type": "stream",
          "name": "stdout",
          "text": [
            "Output for f(0,0):\n",
            "\n",
            "Output for f(0,1):\n",
            "*\n",
            "\n",
            "Output for f(0,2):\n",
            "*\n",
            "**\n",
            " *\n",
            "\n",
            "Output for f(0,4):\n",
            "*\n",
            "**\n",
            " *\n",
            "***\n",
            " *\n",
            " **\n",
            "  *\n",
            "****\n",
            " *\n",
            " **\n",
            "  *\n",
            " ***\n",
            "  *\n",
            "  **\n",
            "   *\n"
          ]
        }
      ],
      "source": [
        "def tough(indent, n):\n",
        "    \"\"\"\n",
        "    Recursive function that prints a pattern of stars\n",
        "    with specified indentation and longest line.\n",
        "\n",
        "    :param indent: Number of spaces for indentation\n",
        "    :param n: The number of stars in the longest line\n",
        "    \"\"\"\n",
        "\n",
        "    if n == 0:\n",
        "        return\n",
        "\n",
        "    tough(indent, n-1)\n",
        "\n",
        "    print(' ' * indent + '*' * n)\n",
        "\n",
        "    tough(indent + 1, n-1)\n",
        "\n",
        "\n",
        "# Test cases\n",
        "print(\"Output for f(0,0):\")\n",
        "tough(0, 0)\n",
        "print(\"\\nOutput for f(0,1):\")\n",
        "tough(0, 1)\n",
        "print(\"\\nOutput for f(0,2):\")\n",
        "tough(0, 2)\n",
        "print(\"\\nOutput for f(0,4):\")\n",
        "tough(0, 4)\n"
      ]
    },
    {
      "cell_type": "code",
      "source": [],
      "metadata": {
        "id": "oZMVZ2M2LUZJ"
      },
      "execution_count": null,
      "outputs": []
    }
  ]
}